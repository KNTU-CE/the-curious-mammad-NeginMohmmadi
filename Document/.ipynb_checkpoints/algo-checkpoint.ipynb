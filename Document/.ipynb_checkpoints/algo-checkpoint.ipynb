{
 "cells": [
  {
   "cell_type": "markdown",
   "metadata": {},
   "source": [
    "# The curious Mammad "
   ]
  },
  {
   "cell_type": "markdown",
   "metadata": {},
   "source": [
    "We can turn this project into a simple question that an array and a number are given and the question is: __\"the number of sub-arrays whose sum are divisible by k after exclusing their maximum element\"__"
   ]
  },
  {
   "cell_type": "markdown",
   "metadata": {},
   "source": [
    "### Divide And Conquer Algorithm"
   ]
  },
  {
   "cell_type": "markdown",
   "metadata": {},
   "source": [
    "To solve this problem, I used divide and conquer approach which divide the problem into smaller problems, then solve the smaller problems independently, and finally combine the solutions of smaller problems into a solution for the large problem."
   ]
  },
  {
   "cell_type": "markdown",
   "metadata": {},
   "source": [
    "For dividing part, I find the middle element of given array called __mid__ and divide array into two sub-arrays that one of them starts from the first element to mid called __left sub-problem__ and the other starts from mid to the end element called __right sub-problem__. This division continues until we reach sub-arrays of size 1.<br>\n",
    "For the conquering part, I only count the sub-arrays with the asked properties that contain the middle element. finally return the sum of right sub-problem result, left sub-problem result and the number of sub-arrays that contain middle element."
   ]
  },
  {
   "cell_type": "markdown",
   "metadata": {},
   "source": [
    "Now the question is: \"How can we count the number of sub-arrays that contain the middle element?\"<br>\n",
    "Let there be a sub-array (i, j) whose sum is divisible by k after exclusing its maximum, m is its middle element and mux is its maximum element:<br>\n",
    "$(sum(i, j) - max) \\% k = 0$<br>\n",
    "$(sum(i, m) + sum(m, j) - max) \\% k = 0$<br>\n",
    "any number can be written as $q*k + rem$ where q is a quotient and rem is reminder, thus:<br>\n",
    "$(q1*k + rem1) + (q2*k + rem2) - (q3*k + rem3) \\% k = 0$<br>\n",
    "$(rem1 + rem2 - rem3) \\%k = 0$<br>\n",
    "$rem1 = (rem3 - rem2) \\%k$ or $rem2 = (rem3 - rem1) \\% k$<br>\n",
    "we start from the middle element and move to the left. In each step, we calculate and store a pair, which contains reminder of the sum of elements and maximum element up to this step. We repeat this for the right half again(start from the middle element and move to the right). Now we have 2 arrays of pairs for left and right side."
   ]
  },
  {
   "cell_type": "markdown",
   "metadata": {},
   "source": [
    "Next and The most important step is to sort and merge the two arrays(!) In this case, if we move on the sorted array, we can be sure that the maximum of previous pairs are less. Note that both arrays are definitely sorted because the maximum can be increased but not reduced. so we have two sorted arrays that we need to merge. Doesn't that remind you something?<br>\n",
    "Yes, that's right, __merge__ method of merge sort algorithm."
   ]
  },
  {
   "cell_type": "markdown",
   "metadata": {},
   "source": [
    "For the next step, we need two auxilary arrays of size k as __lmod[k]__ for left half and __rmod[k]__ for right half. these two arrays hold the count of sub-arrays whose remainder is i in i'th element.<br> \n",
    "We define counter __cnt__ and assign it to 0.<br>\n",
    "We move on the merged array and while counting the number of sub-arrays with i remainder, due to the above relations, if the current sub-array for left half, add cnt to rmod[rem3 - rem2]\\(opposite half) And vice versa. because we know the maximum of all previous sub-arrays with the current sub-array is equal to the maximum of current array."
   ]
  },
  {
   "cell_type": "code",
   "execution_count": null,
   "metadata": {},
   "outputs": [],
   "source": []
  }
 ],
 "metadata": {
  "kernelspec": {
   "display_name": "Python 3",
   "language": "python",
   "name": "python3"
  },
  "language_info": {
   "codemirror_mode": {
    "name": "ipython",
    "version": 3
   },
   "file_extension": ".py",
   "mimetype": "text/x-python",
   "name": "python",
   "nbconvert_exporter": "python",
   "pygments_lexer": "ipython3",
   "version": "3.8.5"
  }
 },
 "nbformat": 4,
 "nbformat_minor": 4
}
